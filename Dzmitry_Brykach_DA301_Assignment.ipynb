{
 "cells": [
  {
   "metadata": {},
   "cell_type": "markdown",
   "source": [
    "# Week 1 assignment: Linear regression using Python\n",
    "The marketing department of Turtle Games prefers Python for data analysis. As you are fluent in Python, they asked you to assist with data analysis of social media data. The marketing department wants to better understand how users accumulate loyalty points. Therefore, you need to investigate the possible relationships between the loyalty points, age, remuneration, and spending scores. Note that you will use this data set in future modules as well and it is, therefore, strongly encouraged to first clean the data as per provided guidelines and then save a copy of the clean data for future use.\n",
    "\n",
    "## Instructions\n",
    "1. Load and explore the data.\n",
    "    1. Create a new DataFrame (e.g. reviews).\n",
    "    2. Sense-check the DataFrame.\n",
    "    3. Determine if there are any missing values in the DataFrame.\n",
    "    4. Create a summary of the descriptive statistics.\n",
    "2. Remove redundant columns (`language` and `platform`).\n",
    "3. Change column headings to names that are easier to reference (e.g. `renumeration` and `spending_score`).\n",
    "4. Save a copy of the clean DataFrame as a CSV file. Import the file to sense-check.\n",
    "5. Use linear regression and goodness of fit metrics to evaluate possible linear relationships between loyalty points and age/renumeration/spending scores to determine whether these can be used to predict the loyalty points.\n",
    "    1. Specify the independent and dependent variables.\n",
    "    2. Create the OLS model.\n",
    "    3. Extract the estimated parameters, standard errors, and predicted values.\n",
    "    4. Generate the regression table based on the X coefficient and constant values.\n",
    "    5. Plot the linear regression and add a regression line.\n",
    "6. Include your insights and observations."
   ],
   "id": "e9f184d63853efb5"
  },
  {
   "metadata": {},
   "cell_type": "markdown",
   "source": "## 1. Load and explore the data",
   "id": "c8d3c6682de084f9"
  },
  {
   "metadata": {
    "collapsed": true,
    "ExecuteTime": {
     "end_time": "2025-09-29T15:17:39.333365Z",
     "start_time": "2025-09-29T15:17:39.329543Z"
    }
   },
   "cell_type": "code",
   "source": [
    "import numpy as np\n",
    "import pandas as pd\n",
    "import matplotlib.pyplot as plt\n",
    "import seaborn as sns\n",
    "import statsmodels.api as sm\n",
    "from statsmodels.formula.api import ols"
   ],
   "id": "initial_id",
   "outputs": [],
   "execution_count": 3
  },
  {
   "metadata": {},
   "cell_type": "code",
   "outputs": [],
   "execution_count": null,
   "source": [
    "# Load the CSV file(s) as reviews.\n",
    "\n",
    "\n",
    "# View the DataFrame."
   ],
   "id": "33f0f0391a7ed5fb"
  },
  {
   "metadata": {},
   "cell_type": "code",
   "outputs": [],
   "execution_count": null,
   "source": "# Any missing values?",
   "id": "383dfc91b58a8e36"
  },
  {
   "metadata": {},
   "cell_type": "code",
   "outputs": [],
   "execution_count": null,
   "source": "# Explore the data.",
   "id": "a93ad752e29c83d8"
  },
  {
   "metadata": {},
   "cell_type": "code",
   "outputs": [],
   "execution_count": null,
   "source": "# Basic descriptive statistics.",
   "id": "1e0425b0a269c094"
  },
  {
   "metadata": {},
   "cell_type": "code",
   "outputs": [],
   "execution_count": null,
   "source": "",
   "id": "5e71a0233e46ba19"
  },
  {
   "metadata": {},
   "cell_type": "markdown",
   "source": "## 2. Drop Columns",
   "id": "c718cf98f9ab70a5"
  },
  {
   "metadata": {},
   "cell_type": "code",
   "outputs": [],
   "execution_count": null,
   "source": [
    "# Drop unnecessary columns.\n",
    "\n",
    "\n",
    "# View column names."
   ],
   "id": "543b294800efd279"
  },
  {
   "metadata": {},
   "cell_type": "markdown",
   "source": "## 3. Rename Columns",
   "id": "536cf14df76902c2"
  },
  {
   "metadata": {},
   "cell_type": "code",
   "outputs": [],
   "execution_count": null,
   "source": [
    "# Rename the column headers.\n",
    "\n",
    "\n",
    "# View column names."
   ],
   "id": "f08a1cf26880efcb"
  },
  {
   "metadata": {},
   "cell_type": "markdown",
   "source": "## 4. Save the dataFrame as .CSV file",
   "id": "bc6a314635a17e17"
  },
  {
   "metadata": {},
   "cell_type": "code",
   "outputs": [],
   "execution_count": null,
   "source": "# Create a CSV file as output.",
   "id": "3207b98b4943a510"
  },
  {
   "metadata": {},
   "cell_type": "code",
   "outputs": [],
   "execution_count": null,
   "source": [
    "# Import new CSV file with Pandas.\n",
    "\n",
    "\n",
    "# View DataFrame."
   ],
   "id": "d8896997679163d5"
  },
  {
   "metadata": {},
   "cell_type": "markdown",
   "source": "## 5.Linear Regression",
   "id": "219f21a3ceab3bbf"
  },
  {
   "metadata": {},
   "cell_type": "markdown",
   "source": "### 5a. spending vs. loyalty",
   "id": "422f8239ccfc3330"
  },
  {
   "metadata": {},
   "cell_type": "code",
   "outputs": [],
   "execution_count": null,
   "source": [
    "# Define independent variable.\n",
    "\n",
    "\n",
    "# Define dependent variable.\n",
    "\n",
    "\n",
    "# Create model and print summary of metrics."
   ],
   "id": "4e9b2fdc2f188270"
  },
  {
   "metadata": {},
   "cell_type": "code",
   "outputs": [],
   "execution_count": null,
   "source": [
    "# Extract the estimated parameters.\n",
    "\n",
    "\n",
    "# Extract the standard errors.\n",
    "\n",
    "\n",
    "# Extract the predicted values."
   ],
   "id": "abb290dc1dbc2e09"
  },
  {
   "metadata": {},
   "cell_type": "code",
   "outputs": [],
   "execution_count": null,
   "source": [
    "# Set the X coefficient and the constant to generate the regression table.\n",
    "\n",
    "\n",
    "# View the output."
   ],
   "id": "933e2d97946b8832"
  },
  {
   "metadata": {},
   "cell_type": "code",
   "outputs": [],
   "execution_count": null,
   "source": "# Plot the graph with a regression line.",
   "id": "253f3f4cb44adf44"
  },
  {
   "metadata": {},
   "cell_type": "markdown",
   "source": "### 5b. renumeration loyalty",
   "id": "72103869b3d433de"
  },
  {
   "metadata": {},
   "cell_type": "code",
   "outputs": [],
   "execution_count": null,
   "source": [
    "# Define independent variable.\n",
    "\n",
    "\n",
    "# Define dependent variable.\n",
    "\n",
    "\n",
    "# Create model and print summary of metrics."
   ],
   "id": "c055dfa1f45ebed0"
  },
  {
   "metadata": {},
   "cell_type": "code",
   "outputs": [],
   "execution_count": null,
   "source": [
    "# Extract the estimated parameters.\n",
    "\n",
    "\n",
    "# Extract the standard errors.\n",
    "\n",
    "\n",
    "# Extract the predicted values.\n"
   ],
   "id": "c7266077a2331cde"
  },
  {
   "metadata": {},
   "cell_type": "code",
   "outputs": [],
   "execution_count": null,
   "source": [
    "# Set the the X coefficient and the constant to generate the regression table.\n",
    "\n",
    "\n",
    "# View the output."
   ],
   "id": "46bb2a412be7cbc6"
  },
  {
   "metadata": {},
   "cell_type": "code",
   "outputs": [],
   "execution_count": null,
   "source": "# Plot graph with regression line.",
   "id": "edf7cf4417540747"
  },
  {
   "metadata": {},
   "cell_type": "markdown",
   "source": "### 5c. age vs. loyalty",
   "id": "772b661af7e4926f"
  },
  {
   "metadata": {},
   "cell_type": "code",
   "outputs": [],
   "execution_count": null,
   "source": [
    "# Define independent variable.\n",
    "\n",
    "\n",
    "# Define dependent variable.\n",
    "\n",
    "\n",
    "# Create model and print summary of metrics."
   ],
   "id": "50964c6ba4877dfd"
  },
  {
   "metadata": {},
   "cell_type": "code",
   "outputs": [],
   "execution_count": null,
   "source": [
    "# Extract the estimated parameters.\n",
    "\n",
    "\n",
    "# Extract the standard errors.\n",
    "\n",
    "\n",
    "# Extract the predicted values."
   ],
   "id": "55ac8ca212d844dc"
  },
  {
   "metadata": {},
   "cell_type": "code",
   "outputs": [],
   "execution_count": null,
   "source": [
    "# Set the X coefficient and the constant to generate the regression table.\n",
    "\n",
    "\n",
    "# View the output."
   ],
   "id": "a41b62b25a0e418f"
  },
  {
   "metadata": {},
   "cell_type": "code",
   "outputs": [],
   "execution_count": null,
   "source": "# Plot graph with regression line.",
   "id": "ce630f6d880938b3"
  },
  {
   "metadata": {},
   "cell_type": "markdown",
   "source": "## 6. Observations & Insights",
   "id": "a367cdd6322a607e"
  },
  {
   "metadata": {},
   "cell_type": "markdown",
   "source": "_insert observations here..._",
   "id": "e70792e68dd64870"
  }
 ],
 "metadata": {
  "kernelspec": {
   "display_name": "Python 3",
   "language": "python",
   "name": "python3"
  },
  "language_info": {
   "codemirror_mode": {
    "name": "ipython",
    "version": 2
   },
   "file_extension": ".py",
   "mimetype": "text/x-python",
   "name": "python",
   "nbconvert_exporter": "python",
   "pygments_lexer": "ipython2",
   "version": "2.7.6"
  }
 },
 "nbformat": 4,
 "nbformat_minor": 5
}
